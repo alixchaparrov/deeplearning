{
  "nbformat": 4,
  "nbformat_minor": 0,
  "metadata": {
    "colab": {
      "name": "P1T1_python_basic",
      "provenance": [],
      "toc_visible": true
    },
    "kernelspec": {
      "name": "python3",
      "display_name": "Python 3"
    },
    "language_info": {
      "name": "python"
    }
  },
  "cells": [
    {
      "cell_type": "markdown",
      "source": [
        "# Metadata: \n",
        "*  @Autor:Alix Ivonne Chaparro Vasquez\n",
        "*  @Date:2022/Feb/12\n",
        "*  @Description:This python notebook shows basic exercises in python.\n"
      ],
      "metadata": {
        "id": "W3ULDdzPKCzR"
      }
    },
    {
      "cell_type": "markdown",
      "source": [
        "# Ejercicios Básicos"
      ],
      "metadata": {
        "id": "fF3emenlKYy5"
      }
    },
    {
      "cell_type": "markdown",
      "source": [
        "## Ejercicio 1: Productos + Iva"
      ],
      "metadata": {
        "id": "7CNlWgfhKWhD"
      }
    },
    {
      "cell_type": "markdown",
      "source": [
        "###Versión normal\n"
      ],
      "metadata": {
        "id": "EQmOO7bwSu9q"
      }
    },
    {
      "cell_type": "code",
      "execution_count": null,
      "metadata": {
        "colab": {
          "base_uri": "https://localhost:8080/"
        },
        "id": "3m9rxWYGJDA-",
        "outputId": "d5e1561f-1115-4796-dcc1-294cfffc0c7e"
      },
      "outputs": [
        {
          "output_type": "stream",
          "name": "stdout",
          "text": [
            "Input first product:66\n",
            "Input second product:77\n",
            "Input third product:88\n",
            "Input fourth product:33\n",
            "Input fifth product:88\n",
            "Valor bruto 352 \n",
            "IVA: 66.88 \n",
            "TOTAL: 418.88\n"
          ]
        }
      ],
      "source": [
        "prod1=int(input(\"Input first product:\"))\n",
        "prod2=int(input(\"Input second product:\"))\n",
        "prod3=int(input(\"Input third product:\"))\n",
        "prod4=int(input(\"Input fourth product:\"))\n",
        "prod5=int(input(\"Input fifth product:\"))\n",
        "suma=(prod1+prod2+prod3+prod4+prod5)\n",
        "iva=suma *0.19\n",
        "total=suma+iva\n",
        "print(\"Valor bruto\",suma,\"\\nIVA:\",iva,\"\\nTOTAL:\",total)"
      ]
    },
    {
      "cell_type": "markdown",
      "source": [
        "###Versión Python\n"
      ],
      "metadata": {
        "id": "9ugHtVCSMNxr"
      }
    },
    {
      "cell_type": "code",
      "source": [
        "pro1,pro2,pro3,pro4,pro5=input(\"input 1°,2°,3°,4° and 5° products, separate with comma:\").split(\",\")\n",
        "suma=(pro1+pro2+pro3+pro4+pro5)\n",
        "print(\"Valor bruto\",suma,\"\\nIVA:\",iva,\"\\nTOTAL:\",total)"
      ],
      "metadata": {
        "colab": {
          "base_uri": "https://localhost:8080/"
        },
        "id": "TfSwkU8xMNVe",
        "outputId": "b4b11e21-ed7e-4f04-be66-4f04e7e6ca8e"
      },
      "execution_count": null,
      "outputs": [
        {
          "output_type": "stream",
          "name": "stdout",
          "text": [
            "input 1°,2°,3°,4° and 5° products, separate with comma:33,55,33,44,66\n",
            "Valor bruto 3355334466 \n",
            "IVA: 66.88 \n",
            "TOTAL: 418.88\n"
          ]
        }
      ]
    },
    {
      "cell_type": "markdown",
      "source": [
        "##Ejercicio 2:"
      ],
      "metadata": {
        "id": "TpH725_pNA08"
      }
    },
    {
      "cell_type": "markdown",
      "source": [
        "###Versión normal"
      ],
      "metadata": {
        "id": "-P0l_-fbSkIt"
      }
    },
    {
      "cell_type": "code",
      "source": [
        "var1=float(int(input(\"Enter the first number: \")))\n",
        "var2=float(int(input(\"Enter the second number: \")))\n",
        "var3=float(int(input(\"Enter the third number: \")))\n",
        "\n",
        "if (var1 >= var2) and (var1 >= var3):\n",
        "   largest = var1\n",
        "elif (var2 >= var1) and (var2 >= var3):\n",
        "   largest = var2\n",
        "else:\n",
        "   largest = var3\n",
        "\n",
        "print(\"The largest number is\", largest)\n",
        "\n",
        "if (var1 <= var2) and (var1 <= var3):\n",
        "  smallest = var1\n",
        "elif (var2 <= var1) and (var2 <= var3):\n",
        "   smallest = var2\n",
        "else:\n",
        "   smallest = var3\n",
        "\n",
        "print(\"The smallest number is\", smallest)\n",
        "\n",
        "sum=var1+var2+var3\n",
        "\n",
        "average=sum/3\n",
        "\n",
        "print(\"The average is\", average)"
      ],
      "metadata": {
        "colab": {
          "base_uri": "https://localhost:8080/"
        },
        "id": "L5bMiG3zNHDh",
        "outputId": "89498cf1-1c1d-402b-a12f-2ddd027cd675"
      },
      "execution_count": null,
      "outputs": [
        {
          "output_type": "stream",
          "name": "stdout",
          "text": [
            "Enter the first number: 5\n",
            "Enter the second number: 3\n",
            "Enter the third number: 2\n",
            "The largest number is 5.0\n",
            "The smallest number is 2.0\n",
            "The average is 3.3333333333333335\n"
          ]
        }
      ]
    },
    {
      "cell_type": "markdown",
      "source": [
        "###Versión Python\n"
      ],
      "metadata": {
        "id": "BtsuS3leS2O4"
      }
    },
    {
      "cell_type": "code",
      "source": [
        "var1,var2,var3=input(\"Enter 3 numbers separated by comma:\").split(\",\")\n",
        "print(\"The largest number is:\"+str(max(int(var1),int(var2),int(var3))),\"The smallest number is: \"+str(min(int(var1),int(var2),int(var3))), \"The average is: \"+ str((int(var1)+int(var2)+int(var3))/3))"
      ],
      "metadata": {
        "colab": {
          "base_uri": "https://localhost:8080/"
        },
        "id": "3XHO9q-IS5qY",
        "outputId": "e30dd1ba-5bb7-4bc3-d7b9-e431d1e6b9fc"
      },
      "execution_count": null,
      "outputs": [
        {
          "output_type": "stream",
          "name": "stdout",
          "text": [
            "Enter 3 numbers separated by comma:5,3,2\n",
            "The largest number is:5 The smallest number is: 2 The average is: 3.3333333333333335\n"
          ]
        }
      ]
    },
    {
      "cell_type": "markdown",
      "source": [
        "##Ejercicio 3:"
      ],
      "metadata": {
        "id": "X0Z5jySxdB4d"
      }
    },
    {
      "cell_type": "markdown",
      "source": [
        "###Versión normal"
      ],
      "metadata": {
        "id": "hZWH0zZedcWO"
      }
    },
    {
      "cell_type": "code",
      "source": [
        "list1 = []\n",
        "num = int(input(\"Enter number of elements in list: \"))\n",
        "total_sum=0\n",
        "for i in range(1, num + 1):\n",
        "    ele= int(input(\"Enter elements: \"))\n",
        "    list1.append(ele)\n",
        "    total_sum += ele\n",
        "\n",
        "print(\"List:\",list1)\n",
        "\n",
        "list1.sort()\n",
        "print(\"Sorted list in ascending order:\",list1)\n",
        "\n",
        "list1.sort(reverse = True)\n",
        "print(\"Sorted list in descending order:\",list1)\n",
        "\n",
        "maximum = max(list1)\n",
        "print(\"The largest number is:\",maximum)\n",
        "\n",
        "smallest = min(list1)\n",
        "print(\"The smallest number is:\",smallest)\n",
        "\n",
        "avg = total_sum/num\n",
        "print(\"The average is:\", avg)\n"
      ],
      "metadata": {
        "colab": {
          "base_uri": "https://localhost:8080/"
        },
        "id": "keI7wBoEdUyr",
        "outputId": "bb9f3d08-987e-4d8b-9c98-8b346aad4787"
      },
      "execution_count": null,
      "outputs": [
        {
          "output_type": "stream",
          "name": "stdout",
          "text": [
            "Enter number of elements in list: 3\n",
            "Enter elements: 5\n",
            "Enter elements: 3\n",
            "Enter elements: 2\n",
            "List: [5, 3, 2]\n",
            "Sorted list in ascending order: [2, 3, 5]\n",
            "Sorted list in descending order: [5, 3, 2]\n",
            "The largest number is: 5\n",
            "The smallest number is: 2\n",
            "The average is: 3.3333333333333335\n"
          ]
        }
      ]
    },
    {
      "cell_type": "markdown",
      "source": [
        "###Version Python"
      ],
      "metadata": {
        "id": "MF_PIgJBxr-o"
      }
    },
    {
      "cell_type": "code",
      "source": [
        "list1 = []\n",
        "num = int(input(\"Enter number of elements in list: \"))\n",
        "total_sum=0\n",
        "for i in range(1, num + 1):\n",
        "    ele= int(input(\"Enter elements: \"))\n",
        "    list1.append(ele)\n",
        "    total_sum += ele\n",
        "\n",
        "print(\"List:\",list1)\n",
        "\n",
        "list1.sort()\n",
        "print(\"Sorted list in ascending order:\",list1)\n",
        "\n",
        "list1.sort(reverse = True)\n",
        "print(\"Sorted list in descending order:\",list1)\n",
        "\n",
        "print(\"The largest number is:\",maximum, \"\\nThe smallest number is:\",smallest, \"\\nThe average is:\",avg)"
      ],
      "metadata": {
        "id": "A1oQEmNjxz00",
        "colab": {
          "base_uri": "https://localhost:8080/"
        },
        "outputId": "01fa769e-e5c0-412d-f7eb-0b190752a2c4"
      },
      "execution_count": 12,
      "outputs": [
        {
          "output_type": "stream",
          "name": "stdout",
          "text": [
            "Enter number of elements in list: 3\n",
            "Enter elements: 5\n",
            "Enter elements: 1\n",
            "Enter elements: 9\n",
            "List: [5, 1, 9]\n",
            "Sorted list in ascending order: [1, 5, 9]\n",
            "Sorted list in descending order: [9, 5, 1]\n",
            "The largest number is: 6 \n",
            "The smallest number is: 2 \n",
            "The average is: 4.0\n"
          ]
        }
      ]
    }
  ]
}